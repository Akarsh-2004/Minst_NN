{
 "cells": [
  {
   "cell_type": "code",
   "execution_count": 22,
   "id": "22df7ef1-cd6a-44b9-919c-2d3de10cd2d2",
   "metadata": {},
   "outputs": [],
   "source": [
    "#tensor is just array like object"
   ]
  },
  {
   "cell_type": "code",
   "execution_count": 32,
   "id": "5b7d3a14-2d9a-47dc-a74d-c0641cb354b0",
   "metadata": {},
   "outputs": [
    {
     "data": {
      "text/plain": [
       "'\\n1.>input > weight> hidden layer 1 >> weights >> hidden layer 2 >> weight >> output layer\\n\\n2.> compare op to intended op > cost or lost function >\\n\\n3.> optimization function  > minimize cost \\n\\n4.> backprogration\\n\\n5.> feed forward + backprop = epoch\\n \\n'"
      ]
     },
     "execution_count": 32,
     "metadata": {},
     "output_type": "execute_result"
    }
   ],
   "source": [
    " '''\n",
    "1.>input > weight> hidden layer 1 >> weights >> hidden layer 2 >> weight >> output layer\n",
    "\n",
    "2.> compare op to intended op > cost or lost function >\n",
    "\n",
    "3.> optimization function  > minimize cost \n",
    "\n",
    "4.> backprogration\n",
    "\n",
    "5.> feed forward + backprop = epoch\n",
    "  \n",
    " '''"
   ]
  },
  {
   "cell_type": "code",
   "execution_count": 34,
   "id": "f71fd406-dada-4aeb-8f0a-7b8c1c4783cd",
   "metadata": {},
   "outputs": [
    {
     "name": "stdout",
     "output_type": "stream",
     "text": [
      "Epoch 1/10, Loss: 136.3121\n",
      "Epoch 2/10, Loss: 55.0103\n",
      "Epoch 3/10, Loss: 36.3574\n",
      "Epoch 4/10, Loss: 25.6555\n",
      "Epoch 5/10, Loss: 21.0753\n",
      "Epoch 6/10, Loss: 19.2506\n",
      "Epoch 7/10, Loss: 15.2716\n",
      "Epoch 8/10, Loss: 13.4535\n",
      "Epoch 9/10, Loss: 12.7394\n",
      "Epoch 10/10, Loss: 12.6779\n"
     ]
    }
   ],
   "source": [
    "import tensorflow as tf\n",
    "from tensorflow.keras.models import Sequential\n",
    "from tensorflow.keras.layers import Dense\n",
    "from tensorflow.keras.datasets import mnist\n",
    "from tensorflow.keras.utils import to_categorical\n",
    "class MyNeuralNetwork(tf.keras.Model):\n",
    "    def __init__(self):\n",
    "        super(MyNeuralNetwork, self).__init__()\n",
    "        self.fc1 = tf.keras.layers.Dense(n_node_hl1, activation='relu')\n",
    "        self.fc2 = tf.keras.layers.Dense(n_node_hl2, activation='relu')\n",
    "        self.fc3 = tf.keras.layers.Dense(n_node_hl3, activation='relu')\n",
    "        self.out = tf.keras.layers.Dense(n_classes)\n",
    "\n",
    "    def call(self, x):\n",
    "        x = self.fc1(x)\n",
    "        x = self.fc2(x)\n",
    "        x = self.fc3(x)\n",
    "        return self.out(x)  # raw logits\n",
    "\n",
    "# Instantiate model, loss, and optimizer\n",
    "model = MyNeuralNetwork()\n",
    "loss_fn = tf.keras.losses.CategoricalCrossentropy(from_logits=True)\n",
    "optimizer = tf.keras.optimizers.Adam()\n",
    "epochs=10\n",
    "# Training loop\n",
    "for epoch in range(10):\n",
    "    epoch_loss = 0\n",
    "    for i in range(0, len(x_train), batch_size):\n",
    "        batch_x = x_train[i:i + batch_size]\n",
    "        batch_y = y_train[i:i + batch_size]\n",
    "\n",
    "        with tf.GradientTape() as tape:\n",
    "            logits = model(batch_x)\n",
    "            loss = loss_fn(batch_y, logits)\n",
    "\n",
    "        gradients = tape.gradient(loss, model.trainable_variables)\n",
    "        optimizer.apply_gradients(zip(gradients, model.trainable_variables))\n",
    "        epoch_loss += loss.numpy()\n",
    "\n",
    "    print(f\"Epoch {epoch + 1}/{epochs}, Loss: {epoch_loss:.4f}\")\n"
   ]
  },
  {
   "cell_type": "code",
   "execution_count": 35,
   "id": "29b84135-5ea3-434b-aa6c-217b96797306",
   "metadata": {},
   "outputs": [
    {
     "name": "stdout",
     "output_type": "stream",
     "text": [
      "Test Accuracy: 0.9817\n"
     ]
    }
   ],
   "source": [
    "\n",
    "# Evaluation\n",
    "logits = model(x_test)\n",
    "correct_preds = tf.equal(tf.argmax(logits, 1), tf.argmax(y_test, 1))\n",
    "accuracy = tf.reduce_mean(tf.cast(correct_preds, tf.float32)).numpy()\n",
    "print(\"Test Accuracy:\", accuracy)\n"
   ]
  },
  {
   "cell_type": "code",
   "execution_count": null,
   "id": "ad1d36e3-cf56-4c22-923e-1cbbb2050440",
   "metadata": {},
   "outputs": [],
   "source": []
  }
 ],
 "metadata": {
  "kernelspec": {
   "display_name": "Python 3.10 (tf310)",
   "language": "python",
   "name": "tf310"
  },
  "language_info": {
   "codemirror_mode": {
    "name": "ipython",
    "version": 3
   },
   "file_extension": ".py",
   "mimetype": "text/x-python",
   "name": "python",
   "nbconvert_exporter": "python",
   "pygments_lexer": "ipython3",
   "version": "3.10.11"
  }
 },
 "nbformat": 4,
 "nbformat_minor": 5
}
